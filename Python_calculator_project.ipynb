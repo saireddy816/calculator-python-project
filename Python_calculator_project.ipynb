{
  "nbformat": 4,
  "nbformat_minor": 0,
  "metadata": {
    "colab": {
      "name": "Python new project",
      "provenance": [],
      "authorship_tag": "ABX9TyMu6GkqxPtH1YfFZvWDtUuu",
      "include_colab_link": true
    },
    "kernelspec": {
      "name": "python3",
      "display_name": "Python 3"
    },
    "language_info": {
      "name": "python"
    }
  },
  "cells": [
    {
      "cell_type": "markdown",
      "metadata": {
        "id": "view-in-github",
        "colab_type": "text"
      },
      "source": [
        "<a href=\"https://colab.research.google.com/github/saireddy816/calculator-python-project/blob/main/Python_new_project.ipynb\" target=\"_parent\"><img src=\"https://colab.research.google.com/assets/colab-badge.svg\" alt=\"Open In Colab\"/></a>"
      ]
    },
    {
      "cell_type": "code",
      "metadata": {
        "colab": {
          "base_uri": "https://localhost:8080/"
        },
        "id": "eGd7MoFxqjp6",
        "outputId": "e617a067-949d-4df6-beeb-b2c6c0e9fc70"
      },
      "source": [
        "print(\"\\t\\t\\t\\t simple calculator\")\n",
        "def add (x, y) : \n",
        "  return x+y \n",
        "def subtract(x, y): \n",
        "  return x-y \n",
        "def multiply(x, y): \n",
        "  return X*y \n",
        "def divide (x, y):\n",
        "  return x/y \n",
        "def power(x, y) :\n",
        "  return x**y\n",
        "def floor(x,y):\n",
        "  return x//y \n",
        "print(\"select an option which you perform\") \n",
        "print(\"1.add\")\n",
        "print(\"2. subtract\")  \n",
        "print(\"3. multiply\")\n",
        "print(\"4. divide\")\n",
        "print(\"5.power\")\n",
        "print(\"6. floor\")\n",
        "while True:\n",
        "    choice=input(\"enter choice (1/2/3/4/5/6)\")\n",
        "    if choice in ('1','2','3','4','5','6'): \n",
        "      num1=float (input (\"enter first number\")) \n",
        "      num2=float (input (\"enter second number\"))\n",
        "    if choice=='1':\n",
        "       print(num1,\"+\", num2, \"=\", add (num1, num2)) \n",
        "    elif choice=='2':\n",
        "        print (num1,\"-\", num2, \"=\", subtract (num1, num2))\n",
        "    elif choice== \"'3\": \n",
        "        print(num1, \"*\", num2, \"=\", multiply (num1, num2))\n",
        "    elif choice=='4': \n",
        "        print (num1, \"/\", num2, \"=\", divide (num1, num2)) \n",
        "    elif choice== '5': \n",
        "        print (num1, \"power\", num2, \"=\" ,power (num1, num2) )\n",
        "    elif choice=='6':\n",
        "        print (num1, \"floor\", num2, \"=\", floor (num1, num2)) \n",
        "    else: \n",
        "     print (\"invalidinput\")"
      ],
      "execution_count": null,
      "outputs": [
        {
          "output_type": "stream",
          "text": [
            "\t\t\t\t simple calculator\n",
            "select an option which you perform\n",
            "1.add\n",
            "2. subtract\n",
            "3. multiply\n",
            "4. divide\n",
            "5.power\n",
            "6. floor\n",
            "enter choice (1/2/3/4/5/6)5\n",
            "enter first number3\n",
            "enter second number3\n",
            "3.0 power 3.0 = 27.0\n"
          ],
          "name": "stdout"
        }
      ]
    }
  ]
}
